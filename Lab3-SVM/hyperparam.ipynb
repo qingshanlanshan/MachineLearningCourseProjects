{
 "cells": [
  {
   "cell_type": "code",
   "execution_count": 18,
   "metadata": {},
   "outputs": [],
   "source": [
    "from sklearn.datasets import fetch_openml\n",
    "from sklearn.model_selection import train_test_split\n",
    "import numpy as np\n",
    "import matplotlib.pyplot as plt\n",
    "from sklearn.svm import SVC\n",
    "from sklearn.pipeline import make_pipeline\n",
    "from sklearn.preprocessing import StandardScaler\n",
    "from sklearn.metrics import accuracy_score,classification_report\n",
    "from tqdm import tqdm\n",
    "from torchvision import datasets\n",
    "from sklearn.datasets import make_blobs\n",
    "from sklearn.inspection import DecisionBoundaryDisplay\n",
    "import matplotlib.cm as cm\n",
    "from mpl_toolkits.mplot3d import Axes3D\n",
    "from matplotlib.colors import ListedColormap\n",
    "from sklearn.decomposition import PCA\n",
    "from sklearn.manifold import MDS, TSNE, Isomap\n",
    "from sklearn.manifold import LocallyLinearEmbedding as LLE\n",
    "from sklearn.discriminant_analysis import LinearDiscriminantAnalysis as LDA"
   ]
  },
  {
   "cell_type": "code",
   "execution_count": 4,
   "metadata": {},
   "outputs": [
    {
     "name": "stdout",
     "output_type": "stream",
     "text": [
      "(60000, 784) (10000, 784) (60000,) (10000,)\n",
      "float32 float32 int32 int32\n",
      "0.0 1.0 0.0 1.0\n"
     ]
    }
   ],
   "source": [
    "train_set=datasets.MNIST('data', train=True, download=True)\n",
    "test_set=datasets.MNIST('data', train=False, download=True)\n",
    "X_train = train_set.data.numpy().reshape(-1,28*28).astype('float32')/255.0\n",
    "X_test = test_set.data.numpy().reshape(-1,28*28).astype('float32')/255.0\n",
    "y_train = train_set.targets.numpy().astype('int32')\n",
    "y_test = test_set.targets.numpy().astype('int32')\n",
    "print(X_train.shape, X_test.shape, y_train.shape, y_test.shape)\n",
    "print(X_train.dtype, X_test.dtype, y_train.dtype, y_test.dtype)\n",
    "print(np.min(X_train), np.max(X_train), np.min(X_test), np.max(X_test))"
   ]
  },
  {
   "cell_type": "markdown",
   "metadata": {},
   "source": [
    "# sample"
   ]
  },
  {
   "cell_type": "code",
   "execution_count": 5,
   "metadata": {},
   "outputs": [
    {
     "data": {
      "image/png": "[encoded data removed]",
      "text/plain": [
       "<Figure size 432x288 with 5 Axes>"
      ]
     },
     "metadata": {
      "needs_background": "light"
     },
     "output_type": "display_data"
    }
   ],
   "source": [
    "for i in range(5):\n",
    "    plt.subplot(151+i)\n",
    "    plt.imshow(X_train[i].reshape(28,28), cmap='gray')\n",
    "    plt.xticks([0,25])\n",
    "    plt.yticks([0,25])\n",
    "    plt.title(y_train[i])"
   ]
  },
  {
   "cell_type": "markdown",
   "metadata": {},
   "source": [
    "# test"
   ]
  },
  {
   "cell_type": "code",
   "execution_count": null,
   "metadata": {},
   "outputs": [
    {
     "name": "stdout",
     "output_type": "stream",
     "text": [
      "Accuracy : 0.9661\n",
      "              precision    recall  f1-score   support\n",
      "\n",
      "           0       0.98      0.99      0.98       980\n",
      "           1       0.99      0.99      0.99      1135\n",
      "           2       0.96      0.97      0.96      1032\n",
      "           3       0.97      0.97      0.97      1010\n",
      "           4       0.97      0.96      0.97       982\n",
      "           5       0.96      0.96      0.96       892\n",
      "           6       0.98      0.97      0.98       958\n",
      "           7       0.93      0.96      0.94      1028\n",
      "           8       0.96      0.95      0.96       974\n",
      "           9       0.97      0.94      0.95      1009\n",
      "\n",
      "    accuracy                           0.97     10000\n",
      "   macro avg       0.97      0.97      0.97     10000\n",
      "weighted avg       0.97      0.97      0.97     10000\n",
      "\n"
     ]
    }
   ],
   "source": [
    "svc = make_pipeline(StandardScaler(), SVC())\n",
    "svc.fit(X_train,y_train)\n",
    "result=svc.predict(X_test)\n",
    "print('Accuracy :',accuracy_score(y_test,result))\n",
    "print(classification_report(y_test,result))"
   ]
  },
  {
   "cell_type": "markdown",
   "metadata": {},
   "source": [
    "# find best hyperparameter"
   ]
  },
  {
   "cell_type": "code",
   "execution_count": 1,
   "metadata": {},
   "outputs": [],
   "source": [
    "c_list=[0.01,0.05,0.1,0.2,0.5,1,10]"
   ]
  },
  {
   "cell_type": "code",
   "execution_count": 5,
   "metadata": {},
   "outputs": [
    {
     "name": "stderr",
     "output_type": "stream",
     "text": [
      " 86%|████████▌ | 6/7 [55:17<14:27, 867.17s/it]"
     ]
    }
   ],
   "source": [
    "kernel = 'linear'\n",
    "granularity = 0.1\n",
    "accuracy_list=[]\n",
    "for c in tqdm(c_list):\n",
    "    try:\n",
    "        svc = make_pipeline(StandardScaler(),SVC(C=c, kernel=kernel))\n",
    "        svc.fit(X_train, y_train)\n",
    "        result = svc.predict(X_test)\n",
    "        accuracy_list.append(accuracy_score(y_test, result))\n",
    "    except:\n",
    "        print('Error: ', kernel, c)\n",
    "        accuracy_list.append(0)\n",
    "plt.plot(c_list,accuracy_list,label=kernel)\n",
    "plt.legend()\n",
    "plt.show()"
   ]
  },
  {
   "cell_type": "code",
   "execution_count": null,
   "metadata": {},
   "outputs": [],
   "source": [
    "kernel = 'rbf'\n",
    "granularity = 0.1\n",
    "accuracy_list=[]\n",
    "for c in tqdm(c_list):\n",
    "    try:\n",
    "        svc = make_pipeline(StandardScaler(),SVC(C=c, kernel=kernel))\n",
    "        svc.fit(X_train, y_train)\n",
    "        result = svc.predict(X_test)\n",
    "        accuracy_list.append(accuracy_score(y_test, result))\n",
    "    except:\n",
    "        print('Error: ', kernel, c)\n",
    "        accuracy_list.append(0)\n",
    "plt.plot(c_list,accuracy_list,label=kernel)\n",
    "plt.legend()\n",
    "plt.show()"
   ]
  },
  {
   "cell_type": "code",
   "execution_count": null,
   "metadata": {},
   "outputs": [],
   "source": [
    "kernel='sigmoid'\n",
    "granularity = 0.1\n",
    "accuracy_list=[]\n",
    "for c in tqdm(c_list):\n",
    "    try:\n",
    "        svc = make_pipeline(StandardScaler(),SVC(C=c, kernel=kernel))\n",
    "        svc.fit(X_train, y_train)\n",
    "        result = svc.predict(X_test)\n",
    "        accuracy_list.append(accuracy_score(y_test, result))\n",
    "    except:\n",
    "        print('Error: ', kernel, c)\n",
    "        accuracy_list.append(0)\n",
    "plt.plot(c_list,accuracy_list,label=kernel)\n",
    "plt.legend()\n",
    "plt.show()"
   ]
  },
  {
   "cell_type": "code",
   "execution_count": 7,
   "metadata": {},
   "outputs": [
    {
     "name": "stderr",
     "output_type": "stream",
     "text": [
      "100%|██████████| 7/7 [2:42:14<00:00, 1390.60s/it]  \n"
     ]
    },
    {
     "data": {
      "image/png": "[encoded data removed]",
      "text/plain": [
       "<Figure size 432x288 with 1 Axes>"
      ]
     },
     "metadata": {
      "needs_background": "light"
     },
     "output_type": "display_data"
    }
   ],
   "source": [
    "kernel='poly'\n",
    "granularity = 0.1\n",
    "accuracy_list=[]\n",
    "for c in tqdm(c_list):\n",
    "    try:\n",
    "        svc = make_pipeline(StandardScaler(),SVC(C=c, kernel=kernel))\n",
    "        svc.fit(X_train, y_train)\n",
    "        result = svc.predict(X_test)\n",
    "        accuracy_list.append(accuracy_score(y_test, result))\n",
    "    except:\n",
    "        print('Error: ', kernel, c)\n",
    "        accuracy_list.append(0)\n",
    "plt.plot(c_list,accuracy_list,label=kernel)\n",
    "plt.legend()\n",
    "plt.show()"
   ]
  }
 ],
 "metadata": {
  "kernelspec": {
   "display_name": "pytorch2",
   "language": "python",
   "name": "python3"
  },
  "language_info": {
   "codemirror_mode": {
    "name": "ipython",
    "version": 3
   },
   "file_extension": ".py",
   "mimetype": "text/x-python",
   "name": "python",
   "nbconvert_exporter": "python",
   "pygments_lexer": "ipython3",
   "version": "3.11.4"
  },
  "orig_nbformat": 4
 },
 "nbformat": 4,
 "nbformat_minor": 2
}
