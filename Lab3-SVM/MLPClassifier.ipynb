{
 "cells": [
  {
   "cell_type": "code",
   "execution_count": 28,
   "metadata": {},
   "outputs": [],
   "source": [
    "from sklearn.datasets import fetch_openml\n",
    "from sklearn.model_selection import train_test_split\n",
    "import numpy as np\n",
    "from sklearn.metrics import accuracy_score,classification_report\n",
    "from torchvision import datasets\n",
    "import torch.nn as nn\n",
    "import torch.nn.functional as F\n",
    "import torchvision.transforms as transforms\n",
    "import torch\n",
    "from tqdm import tqdm\n",
    "from matplotlib import pyplot as plt"
   ]
  },
  {
   "cell_type": "code",
   "execution_count": 29,
   "metadata": {},
   "outputs": [
    {
     "name": "stdout",
     "output_type": "stream",
     "text": [
      "Train set size:  60000\n",
      "Test set size:  10000\n",
      "torch.Size([60000, 28, 28])\n",
      "torch.Size([60000])\n"
     ]
    }
   ],
   "source": [
    "transform = transforms.Compose([transforms.ToTensor(), transforms.Normalize((0.1307,), (0.3081,))])\n",
    "train_set=datasets.MNIST('data', train=True, download=True, transform=transform)\n",
    "test_set=datasets.MNIST('data', train=False, download=True, transform=transform)\n",
    "\n",
    "train_loader=torch.utils.data.DataLoader(train_set, batch_size=64, shuffle=True)\n",
    "test_loader=torch.utils.data.DataLoader(test_set, batch_size=64, shuffle=True)\n",
    "DEVICE = torch.device(\"cpu\") \n",
    "print(\"Train set size: \", len(train_set))\n",
    "print(\"Test set size: \", len(test_set))\n",
    "print(train_loader.dataset.data.shape)\n",
    "print(train_loader.dataset.targets.shape)"
   ]
  },
  {
   "cell_type": "code",
   "execution_count": 30,
   "metadata": {},
   "outputs": [],
   "source": [
    "class MLP(nn.Module):\n",
    "    def __init__(self):\n",
    "        super().__init__()\n",
    "        self.layers = nn.Sequential(\n",
    "            nn.Flatten(),\n",
    "            nn.Linear(28 * 28 * 1, 64),\n",
    "            nn.ReLU(),\n",
    "            nn.Linear(64, 32),\n",
    "            nn.ReLU(),\n",
    "            nn.Linear(32, 10),\n",
    "            nn.LogSoftmax(dim = 1)\n",
    "        )\n",
    "\n",
    "    def forward(self, x):\n",
    "        return self.layers(x)\n"
   ]
  },
  {
   "cell_type": "code",
   "execution_count": 31,
   "metadata": {},
   "outputs": [],
   "source": [
    "lossArray=[]\n",
    "accuracyArray=[]\n",
    "def train(model, device, train_loader, optimizer, epoch, loss_function):\n",
    "    model.train()\n",
    "    for batch_idx, (data, target) in enumerate(train_loader):\n",
    "        data, target = data.to(device), target.to(device)\n",
    "        optimizer.zero_grad()\n",
    "        output = model(data)\n",
    "        try:\n",
    "            loss = loss_function(output, target)\n",
    "        except:\n",
    "            ones = torch.sparse.torch.eye(10).to(DEVICE)  # number of class class\n",
    "            target = ones.index_select(0, target)\n",
    "            loss = loss_function(output, target)\n",
    "        loss.backward()\n",
    "        optimizer.step()\n",
    "        if(batch_idx)%(200) == 0: \n",
    "            print('Train Epoch: {} [{}/{} ({:.0f}%)]\\tLoss: {:.6f}'.format(\n",
    "                epoch, batch_idx * len(data), len(train_loader.dataset),\n",
    "                100. * batch_idx / len(train_loader), loss.item()))\n",
    "            \n",
    "def test(model, device, test_loader, loss_function):\n",
    "    model.eval()\n",
    "    test_loss = 0\n",
    "    correct = 0\n",
    "    with torch.no_grad():\n",
    "        for data, target in test_loader:\n",
    "            data, target = data.to(device), target.to(device)\n",
    "            output = model(data)\n",
    "            # test_loss += loss_function(output, target, reduction='sum').item() # sum up batch loss\n",
    "            try:\n",
    "                loss = loss_function(output, target)\n",
    "            except:\n",
    "                ones = torch.sparse.torch.eye(10).to(DEVICE)  # number of class class\n",
    "                label = ones.index_select(0, target)\n",
    "                loss = loss_function(output, label)\n",
    "            test_loss += loss.item()\n",
    "            pred = output.max(1, keepdim=True)[1] # get the index of the max log-probability\n",
    "            correct += pred.eq(target.view_as(pred)).sum().item() # sum up the correct number\n",
    "\n",
    "    test_loss /= len(test_loader.dataset)\n",
    "    print('\\nTest set: Average loss: {:.4f}, Accuracy: {}/{} ({:.2f}%)\\n'.format(\n",
    "        test_loss, correct, len(test_loader.dataset),\n",
    "        100. * correct / len(test_loader.dataset)))\n",
    "    lossArray.append(test_loss)\n",
    "    accuracyArray.append(100. * correct / len(test_loader.dataset))"
   ]
  },
  {
   "cell_type": "code",
   "execution_count": 32,
   "metadata": {},
   "outputs": [
    {
     "name": "stdout",
     "output_type": "stream",
     "text": [
      "Train Epoch: 0 [0/60000 (0%)]\tLoss: 3793.352783\n"
     ]
    },
    {
     "name": "stderr",
     "output_type": "stream",
     "text": [
      "/opt/anaconda3/envs/pytorch/lib/python3.7/site-packages/torch/nn/modules/loss.py:536: UserWarning: Using a target size (torch.Size([64])) that is different to the input size (torch.Size([64, 10])). This will likely lead to incorrect results due to broadcasting. Please ensure they have the same size.\n",
      "  return F.mse_loss(input, target, reduction=self.reduction)\n"
     ]
    },
    {
     "name": "stdout",
     "output_type": "stream",
     "text": [
      "Train Epoch: 0 [12800/60000 (21%)]\tLoss: 3742.368896\n",
      "Train Epoch: 0 [25600/60000 (43%)]\tLoss: 3740.630127\n",
      "Train Epoch: 0 [38400/60000 (64%)]\tLoss: 3740.698486\n",
      "Train Epoch: 0 [51200/60000 (85%)]\tLoss: 3740.592529\n"
     ]
    },
    {
     "name": "stderr",
     "output_type": "stream",
     "text": [
      "/opt/anaconda3/envs/pytorch/lib/python3.7/site-packages/torch/nn/modules/loss.py:536: UserWarning: Using a target size (torch.Size([32])) that is different to the input size (torch.Size([32, 10])). This will likely lead to incorrect results due to broadcasting. Please ensure they have the same size.\n",
      "  return F.mse_loss(input, target, reduction=self.reduction)\n",
      "/opt/anaconda3/envs/pytorch/lib/python3.7/site-packages/torch/nn/modules/loss.py:536: UserWarning: Using a target size (torch.Size([16])) that is different to the input size (torch.Size([16, 10])). This will likely lead to incorrect results due to broadcasting. Please ensure they have the same size.\n",
      "  return F.mse_loss(input, target, reduction=self.reduction)\n"
     ]
    },
    {
     "name": "stdout",
     "output_type": "stream",
     "text": [
      "\n",
      "Test set: Average loss: 58.4343, Accuracy: 8780/10000 (87.80%)\n",
      "\n",
      "Train Epoch: 1 [0/60000 (0%)]\tLoss: 3740.241211\n",
      "Train Epoch: 1 [12800/60000 (21%)]\tLoss: 3739.054199\n",
      "Train Epoch: 1 [25600/60000 (43%)]\tLoss: 3740.552490\n",
      "Train Epoch: 1 [38400/60000 (64%)]\tLoss: 3738.519531\n",
      "Train Epoch: 1 [51200/60000 (85%)]\tLoss: 3740.947266\n",
      "\n",
      "Test set: Average loss: 58.4260, Accuracy: 9013/10000 (90.13%)\n",
      "\n",
      "Train Epoch: 2 [0/60000 (0%)]\tLoss: 3740.264160\n",
      "Train Epoch: 2 [12800/60000 (21%)]\tLoss: 3740.315918\n",
      "Train Epoch: 2 [25600/60000 (43%)]\tLoss: 3738.650635\n",
      "Train Epoch: 2 [38400/60000 (64%)]\tLoss: 3738.930664\n",
      "Train Epoch: 2 [51200/60000 (85%)]\tLoss: 3739.790527\n",
      "\n",
      "Test set: Average loss: 58.4230, Accuracy: 8980/10000 (89.80%)\n",
      "\n",
      "Train Epoch: 3 [0/60000 (0%)]\tLoss: 3739.103271\n",
      "Train Epoch: 3 [12800/60000 (21%)]\tLoss: 3740.816162\n",
      "Train Epoch: 3 [25600/60000 (43%)]\tLoss: 3739.303711\n",
      "Train Epoch: 3 [38400/60000 (64%)]\tLoss: 3738.012451\n",
      "Train Epoch: 3 [51200/60000 (85%)]\tLoss: 3741.048340\n",
      "\n",
      "Test set: Average loss: 58.4226, Accuracy: 9063/10000 (90.63%)\n",
      "\n",
      "Train Epoch: 4 [0/60000 (0%)]\tLoss: 3738.737061\n",
      "Train Epoch: 4 [12800/60000 (21%)]\tLoss: 3738.545898\n",
      "Train Epoch: 4 [25600/60000 (43%)]\tLoss: 3738.739502\n",
      "Train Epoch: 4 [38400/60000 (64%)]\tLoss: 3739.643311\n",
      "Train Epoch: 4 [51200/60000 (85%)]\tLoss: 3738.081543\n",
      "\n",
      "Test set: Average loss: 58.4297, Accuracy: 9044/10000 (90.44%)\n",
      "\n"
     ]
    },
    {
     "data": {
      "text/plain": [
       "([<matplotlib.axis.XTick at 0x7f8cc0c085d0>,\n",
       "  <matplotlib.axis.XTick at 0x7f8cc088ed10>,\n",
       "  <matplotlib.axis.XTick at 0x7f8cca8b3d10>,\n",
       "  <matplotlib.axis.XTick at 0x7f8cc0c12d10>,\n",
       "  <matplotlib.axis.XTick at 0x7f8ccaad0590>],\n",
       " [Text(0, 0, ''),\n",
       "  Text(0, 0, ''),\n",
       "  Text(0, 0, ''),\n",
       "  Text(0, 0, ''),\n",
       "  Text(0, 0, '')])"
      ]
     },
     "execution_count": 32,
     "metadata": {},
     "output_type": "execute_result"
    },
    {
     "data": {
      "image/png": "[encoded data removed]",
      "text/plain": [
       "<Figure size 432x288 with 1 Axes>"
      ]
     },
     "metadata": {
      "needs_background": "light"
     },
     "output_type": "display_data"
    }
   ],
   "source": [
    "model=MLP().to(DEVICE)\n",
    "optimizer=torch.optim.Adam(model.parameters(), lr=0.01)\n",
    "loss=nn.MSELoss(reduction='sum')\n",
    "for epoch in range(5):\n",
    "    train(model, DEVICE, train_loader, optimizer, epoch, loss)\n",
    "    test(model, DEVICE, test_loader, loss)\n",
    "plt.plot(accuracyArray, label=\"MSELoss Accuracy\")\n",
    "plt.legend()\n",
    "plt.xlabel(\"Epoch\")\n",
    "plt.ylabel(\"Accuracy\")\n",
    "plt.xticks(np.arange(0, 5, 1))\n",
    "\n",
    "\n",
    "model=MLP().to(DEVICE)\n",
    "optimizer=torch.optim.Adam(model.parameters(), lr=0.01)\n",
    "loss=nn.NLLLoss(reduction='sum')\n",
    "accuracyArray=[]\n",
    "for epoch in range(5):\n",
    "    train(model, DEVICE, train_loader, optimizer, epoch, loss)\n",
    "    test(model, DEVICE, test_loader, loss)\n",
    "plt.plot(accuracyArray, label=\"NLLLoss Accuracy\")\n",
    "plt.xlabel(\"Epoch\")\n",
    "plt.ylabel(\"Accuracy\")\n",
    "plt.xticks(np.arange(0, 5, 1))\n",
    "plt.legend()\n",
    "plt.show()"
   ]
  },
  {
   "cell_type": "code",
   "execution_count": 33,
   "metadata": {},
   "outputs": [
    {
     "name": "stdout",
     "output_type": "stream",
     "text": [
      "Train Epoch: 0 [0/60000 (0%)]\tLoss: 147.671555\n",
      "Train Epoch: 0 [12800/60000 (21%)]\tLoss: 22.394711\n",
      "Train Epoch: 0 [25600/60000 (43%)]\tLoss: 4.895274\n",
      "Train Epoch: 0 [38400/60000 (64%)]\tLoss: 4.320593\n",
      "Train Epoch: 0 [51200/60000 (85%)]\tLoss: 12.071854\n",
      "\n",
      "Test set: Average loss: 0.2032, Accuracy: 9413/10000 (94.13%)\n",
      "\n",
      "Train Epoch: 1 [0/60000 (0%)]\tLoss: 4.986445\n",
      "Train Epoch: 1 [12800/60000 (21%)]\tLoss: 2.798363\n",
      "Train Epoch: 1 [25600/60000 (43%)]\tLoss: 9.627895\n",
      "Train Epoch: 1 [38400/60000 (64%)]\tLoss: 18.603691\n",
      "Train Epoch: 1 [51200/60000 (85%)]\tLoss: 6.527767\n",
      "\n",
      "Test set: Average loss: 0.1898, Accuracy: 9473/10000 (94.73%)\n",
      "\n",
      "Train Epoch: 2 [0/60000 (0%)]\tLoss: 3.897738\n",
      "Train Epoch: 2 [12800/60000 (21%)]\tLoss: 4.852042\n",
      "Train Epoch: 2 [25600/60000 (43%)]\tLoss: 6.241174\n",
      "Train Epoch: 2 [38400/60000 (64%)]\tLoss: 9.049638\n",
      "Train Epoch: 2 [51200/60000 (85%)]\tLoss: 13.730740\n",
      "\n",
      "Test set: Average loss: 0.1956, Accuracy: 9457/10000 (94.57%)\n",
      "\n",
      "Train Epoch: 3 [0/60000 (0%)]\tLoss: 17.686926\n",
      "Train Epoch: 3 [12800/60000 (21%)]\tLoss: 6.891242\n",
      "Train Epoch: 3 [25600/60000 (43%)]\tLoss: 1.467431\n",
      "Train Epoch: 3 [38400/60000 (64%)]\tLoss: 10.243247\n",
      "Train Epoch: 3 [51200/60000 (85%)]\tLoss: 7.507383\n",
      "\n",
      "Test set: Average loss: 0.1618, Accuracy: 9578/10000 (95.78%)\n",
      "\n",
      "Train Epoch: 4 [0/60000 (0%)]\tLoss: 6.682422\n",
      "Train Epoch: 4 [12800/60000 (21%)]\tLoss: 5.285014\n",
      "Train Epoch: 4 [25600/60000 (43%)]\tLoss: 13.570112\n",
      "Train Epoch: 4 [38400/60000 (64%)]\tLoss: 4.479109\n",
      "Train Epoch: 4 [51200/60000 (85%)]\tLoss: 6.399573\n",
      "\n",
      "Test set: Average loss: 0.1740, Accuracy: 9540/10000 (95.40%)\n",
      "\n"
     ]
    },
    {
     "data": {
      "image/png": "[encoded data removed]",
      "text/plain": [
       "<Figure size 432x288 with 1 Axes>"
      ]
     },
     "metadata": {
      "needs_background": "light"
     },
     "output_type": "display_data"
    }
   ],
   "source": []
  }
 ],
 "metadata": {
  "kernelspec": {
   "display_name": "pytorch2",
   "language": "python",
   "name": "python3"
  },
  "language_info": {
   "codemirror_mode": {
    "name": "ipython",
    "version": 3
   },
   "file_extension": ".py",
   "mimetype": "text/x-python",
   "name": "python",
   "nbconvert_exporter": "python",
   "pygments_lexer": "ipython3",
   "version": "3.7.16"
  },
  "orig_nbformat": 4
 },
 "nbformat": 4,
 "nbformat_minor": 2
}
