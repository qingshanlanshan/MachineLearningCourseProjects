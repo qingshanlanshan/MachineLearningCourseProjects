{
 "cells": [
  {
   "cell_type": "code",
   "execution_count": 1,
   "metadata": {},
   "outputs": [
    {
     "name": "stdout",
     "output_type": "stream",
     "text": [
      "dict_keys(['data', 'target', 'feature_names', 'DESCR', 'filename', 'data_module'])\n"
     ]
    }
   ],
   "source": [
    "import warnings\n",
    "warnings.simplefilter(action='ignore', category=FutureWarning)\n",
    "from sklearn.datasets import load_boston\n",
    "from sklearn.linear_model import LinearRegression\n",
    "from sklearn.linear_model import Ridge, Lasso\n",
    "from sklearn.model_selection import train_test_split\n",
    "from sklearn.tree import DecisionTreeRegressor\n",
    "from sklearn.svm import SVR\n",
    "from sklearn.pipeline import make_pipeline\n",
    "from sklearn.preprocessing import StandardScaler\n",
    "from sklearn.neural_network import MLPRegressor\n",
    "import numpy as np\n",
    "import matplotlib.pyplot as plt\n",
    "boston = load_boston()\n",
    "print(boston.keys())"
   ]
  },
  {
   "cell_type": "code",
   "execution_count": 2,
   "metadata": {},
   "outputs": [
    {
     "name": "stdout",
     "output_type": "stream",
     "text": [
      "(404, 13) (404,) (102, 13) (102,)\n",
      "<class 'numpy.ndarray'>\n"
     ]
    }
   ],
   "source": [
    "train_data,test_data,train_target,test_target = train_test_split(boston.data,boston.target,test_size=0.2,random_state=42)\n",
    "print(train_data.shape, train_target.shape, test_data.shape, test_target.shape)\n",
    "print(train_data.__class__)"
   ]
  },
  {
   "cell_type": "code",
   "execution_count": 3,
   "metadata": {},
   "outputs": [
    {
     "name": "stdout",
     "output_type": "stream",
     "text": [
      "train set\n",
      "0.7508856358979673\n",
      "0.7508856342719583\n",
      "0.7508035627152096\n",
      "1.0\n",
      "0.6843455679106752\n",
      "0.8747082871418946\n",
      "test set\n",
      "0.6687594935356318\n",
      "0.6687565288011177\n",
      "0.6681815922762605\n",
      "0.862408597996961\n",
      "0.6509027052149564\n",
      "0.8261315025115505\n"
     ]
    }
   ],
   "source": [
    "lr=make_pipeline(StandardScaler(), LinearRegression())\n",
    "ridge=make_pipeline(StandardScaler(), Ridge(alpha=0.01))\n",
    "lasso=make_pipeline(StandardScaler(), Lasso(alpha=0.01))\n",
    "tree=make_pipeline(StandardScaler(), DecisionTreeRegressor(random_state=0))\n",
    "svm = make_pipeline(StandardScaler(), SVR(C=1.0, epsilon=0.2))\n",
    "nn = make_pipeline(StandardScaler(), MLPRegressor(hidden_layer_sizes=(100,),random_state=1,max_iter=1000))\n",
    "\n",
    "lr.fit(train_data,train_target)\n",
    "ridge.fit(train_data,train_target)\n",
    "lasso.fit(train_data,train_target)\n",
    "tree.fit(train_data,train_target)\n",
    "svm.fit(train_data,train_target)\n",
    "nn.fit(train_data,train_target)\n",
    "\n",
    "print(\"train set\")\n",
    "print(lr.score(train_data,train_target))\n",
    "print(ridge.score(train_data,train_target))\n",
    "print(lasso.score(train_data,train_target))\n",
    "print(tree.score(train_data,train_target))\n",
    "print(svm.score(train_data,train_target))\n",
    "print(nn.score(train_data,train_target))\n",
    "print(\"test set\")\n",
    "print(lr.score(test_data,test_target))\n",
    "print(ridge.score(test_data,test_target))\n",
    "print(lasso.score(test_data,test_target))\n",
    "print(tree.score(test_data,test_target))\n",
    "print(svm.score(test_data,test_target))\n",
    "print(nn.score(test_data,test_target))"
   ]
  }
 ],
 "metadata": {
  "kernelspec": {
   "display_name": "pytorch",
   "language": "python",
   "name": "python3"
  },
  "language_info": {
   "codemirror_mode": {
    "name": "ipython",
    "version": 3
   },
   "file_extension": ".py",
   "mimetype": "text/x-python",
   "name": "python",
   "nbconvert_exporter": "python",
   "pygments_lexer": "ipython3",
   "version": "3.11.4"
  },
  "orig_nbformat": 4
 },
 "nbformat": 4,
 "nbformat_minor": 2
}
