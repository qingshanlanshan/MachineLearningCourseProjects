{
 "cells": [
  {
   "attachments": {},
   "cell_type": "markdown",
   "metadata": {},
   "source": [
    "# KNN\n",
    "\n",
    "## Environment Init"
   ]
  },
  {
   "cell_type": "code",
   "execution_count": 15,
   "metadata": {},
   "outputs": [
    {
     "name": "stdout",
     "output_type": "stream",
     "text": [
      "2.0.1\n",
      "0.15.2\n"
     ]
    }
   ],
   "source": [
    "import torch\n",
    "from torch import mps\n",
    "import torch.nn.functional as F\n",
    "import os\n",
    "# import cv2 as cv\n",
    "import numpy as np\n",
    "from typing import Tuple\n",
    "import torchvision\n",
    "from torch.utils.data import DataLoader\n",
    "import torchvision.transforms as transforms\n",
    "import torchvision.datasets as datasets\n",
    "from matplotlib import pyplot as plt\n",
    "\n",
    "\n",
    "print(torch.__version__)\n",
    "print(torchvision.__version__)\n"
   ]
  },
  {
   "attachments": {},
   "cell_type": "markdown",
   "metadata": {},
   "source": [
    "## Create Train Set & Test Set"
   ]
  },
  {
   "cell_type": "code",
   "execution_count": 16,
   "metadata": {},
   "outputs": [],
   "source": [
    "# BATCH_SIZE = 512\n",
    "# EPOCHS = 20\n",
    "DEVICE = torch.device(\"mps\")\n",
    "\n",
    "transform = transforms.Compose([\n",
    "    # transforms.Resize((224, 224)),\n",
    "    transforms.ToTensor(),\n",
    "    transforms.Normalize(mean=[0.8874], std=[0.3159]),\n",
    "    # transforms.Grayscale(num_output_channels=1)\n",
    "])\n",
    "\n",
    "mnist_trainset = datasets.MNIST(\n",
    "    root=\"./data\", train=True, download=True, transform=transform)\n",
    "mnist_testset = datasets.MNIST(\n",
    "    root=\"./data\", train=False, download=True, transform=transform)"
   ]
  },
  {
   "cell_type": "markdown",
   "metadata": {},
   "source": [
    "## Helper"
   ]
  },
  {
   "cell_type": "code",
   "execution_count": 17,
   "metadata": {},
   "outputs": [],
   "source": [
    "def euc_dist(x1, x2):\n",
    "    return torch.sqrt(torch.sum((x1-x2)**2, dim=1))\n",
    "\n",
    "def euc_dist_matrix(matrix1,matrix2):\n",
    "    size1=matrix1.size(0)\n",
    "    size2=matrix2.size(0)\n",
    "    m1=torch.pow(matrix1,2).sum(1,keepdim=True).expand(size1,size2)\n",
    "    m2=torch.pow(matrix2,2).sum(1,keepdim=True).expand(size2,size1).t()\n",
    "    \n",
    "    return torch.addmm((m1+m2),matrix1,matrix2.t(),beta=1,alpha=-2).clamp(min=1e-12).sqrt()\n",
    "\n",
    "def dataset2matrix(dataset):\n",
    "    data = []\n",
    "    labels = []\n",
    "    for i in range(len(dataset)):\n",
    "        img,label=dataset[i]\n",
    "        data.append(img.view(-1))\n",
    "        labels.append(label)\n",
    "    return torch.stack(data), labels\n"
   ]
  },
  {
   "cell_type": "code",
   "execution_count": 18,
   "metadata": {},
   "outputs": [
    {
     "name": "stdout",
     "output_type": "stream",
     "text": [
      "torch.Size([60000, 784])\n",
      "torch.Size([10000, 784])\n",
      "torch.Size([10000, 60000])\n"
     ]
    }
   ],
   "source": [
    "train_matrix, train_labels = dataset2matrix(mnist_trainset)\n",
    "test_matrix, test_labels = dataset2matrix(mnist_testset)\n",
    "\n",
    "print(train_matrix.size())\n",
    "print(test_matrix.size())\n",
    "\n",
    "# train_matrix = train_matrix.to(DEVICE)\n",
    "# test_matrix = test_matrix.to(DEVICE)\n",
    "\n",
    "dist_matrix=euc_dist_matrix(test_matrix,train_matrix)\n",
    "\n",
    "print(dist_matrix.size())\n",
    "    "
   ]
  },
  {
   "cell_type": "code",
   "execution_count": 19,
   "metadata": {},
   "outputs": [
    {
     "name": "stdout",
     "output_type": "stream",
     "text": [
      "10000\n",
      "10000\n"
     ]
    }
   ],
   "source": [
    "res=[]\n",
    "k=10\n",
    "\n",
    "# mps.synchronize()\n",
    "dist_matrix=dist_matrix.cpu() \n",
    "\n",
    "for i in range(len(dist_matrix)):\n",
    "    topk_points=torch.topk(dist_matrix[i],k,largest=False).indices\n",
    "    pridict_label=torch.bincount(torch.tensor([train_labels[idx] for idx in topk_points])).argmax()\n",
    "    res.append(pridict_label)\n",
    "\n",
    "print(len(res))\n",
    "print(len(test_labels))\n",
    "assert len(res)==len(test_labels)"
   ]
  },
  {
   "cell_type": "code",
   "execution_count": 20,
   "metadata": {},
   "outputs": [
    {
     "name": "stdout",
     "output_type": "stream",
     "text": [
      "96.65%:9665/10000\n"
     ]
    }
   ],
   "source": [
    "count=0\n",
    "for i in range(len(res)):\n",
    "    if res[i]==test_labels[i]:\n",
    "        count+=1\n",
    "print(\"{:.2%}:{}/{}\".format(count/len(res),count,len(res)))"
   ]
  }
 ],
 "metadata": {
  "kernelspec": {
   "display_name": "pytorch",
   "language": "python",
   "name": "python3"
  },
  "language_info": {
   "codemirror_mode": {
    "name": "ipython",
    "version": 3
   },
   "file_extension": ".py",
   "mimetype": "text/x-python",
   "name": "python",
   "nbconvert_exporter": "python",
   "pygments_lexer": "ipython3",
   "version": "3.11.4"
  },
  "orig_nbformat": 4
 },
 "nbformat": 4,
 "nbformat_minor": 2
}
